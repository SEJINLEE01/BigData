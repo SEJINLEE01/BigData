{
 "cells": [
  {
   "cell_type": "code",
   "execution_count": null,
   "id": "4e31f779",
   "metadata": {},
   "outputs": [],
   "source": [
    "import pandas as pd\n",
    "from keybert import KeyBERT\n",
    "import os\n",
    "import ast\n",
    "\n",
    "# KeyBERT 모델 로드\n",
    "kw_model = KeyBERT(model='distiluse-base-multilingual-cased-v1')\n",
    "\n",
    "# 파일 경로 설정\n",
    "base_path = \"processing_review\"\n",
    "file_paths = [\n",
    "    os.path.join(base_path, \"mosh_reviews_preprocessed_okt.csv\"),\n",
    "    os.path.join(base_path, \"stanley_reviews_preprocessed_okt.csv\"),\n",
    "    os.path.join(base_path, \"beanplus_reviews_preprocessed_okt.csv\"),\n",
    "    os.path.join(base_path, \"kinto_reviews_preprocessed_okt.csv\"),\n",
    "    os.path.join(base_path, \"konu_reviews_preprocessed_okt.csv\"),\n",
    "    os.path.join(base_path, \"locknlock_reviews_preprocessed_okt.csv\")\n",
    "]\n",
    "\n",
    "# 전체 브랜드 대표 키워드 저장용\n",
    "brand_keyword_summary = {}\n",
    "\n",
    "# 처리 시작\n",
    "for file_path in file_paths:\n",
    "    brand = os.path.basename(file_path).split(\"_\")[0]\n",
    "    print(f\"[{brand}] 전체 리뷰 토큰 이어붙여 키워드 추출 중...\")\n",
    "\n",
    "    df = pd.read_csv(file_path)\n",
    "    df[\"tokens_list\"] = df[\"tokens\"].apply(lambda x: ast.literal_eval(x) if isinstance(x, str) else x)\n",
    "\n",
    "    # 전체 토큰 이어붙이기\n",
    "    all_tokens = sum(df[\"tokens_list\"], [])  # flatten\n",
    "    full_text = \" \".join(all_tokens)\n",
    "\n",
    "    # KeyBERT로 키워드 추출 (브랜드 전체 기준)\n",
    "    keywords = kw_model.extract_keywords(full_text, top_n=20)\n",
    "    brand_keyword_summary[brand] = keywords\n",
    "\n",
    "# 결과 출력\n",
    "for brand, keywords in brand_keyword_summary.items():\n",
    "    print(f\"\\n🔹 {brand.upper()} 대표 키워드:\")\n",
    "    for kw, score in keywords:\n",
    "        print(f\"  - {kw}: {round(score, 3)}\")\n"
   ]
  }
 ],
 "metadata": {
  "kernelspec": {
   "display_name": "Python 3",
   "language": "python",
   "name": "python3"
  },
  "language_info": {
   "codemirror_mode": {
    "name": "ipython",
    "version": 3
   },
   "file_extension": ".py",
   "mimetype": "text/x-python",
   "name": "python",
   "nbconvert_exporter": "python",
   "pygments_lexer": "ipython3",
   "version": "3.11.9"
  }
 },
 "nbformat": 4,
 "nbformat_minor": 5
}
