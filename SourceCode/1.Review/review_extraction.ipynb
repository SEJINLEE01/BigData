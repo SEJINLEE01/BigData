{
 "cells": [
  {
   "cell_type": "code",
   "execution_count": 1,
   "metadata": {},
   "outputs": [
    {
     "name": "stdout",
     "output_type": "stream",
     "text": [
      "Collecting requests\n",
      "  Downloading requests-2.32.3-py3-none-any.whl.metadata (4.6 kB)\n",
      "Collecting charset-normalizer<4,>=2 (from requests)\n",
      "  Downloading charset_normalizer-3.4.1-cp312-cp312-win_amd64.whl.metadata (36 kB)\n",
      "Collecting idna<4,>=2.5 (from requests)\n",
      "  Downloading idna-3.10-py3-none-any.whl.metadata (10 kB)\n",
      "Collecting urllib3<3,>=1.21.1 (from requests)\n",
      "  Downloading urllib3-2.4.0-py3-none-any.whl.metadata (6.5 kB)\n",
      "Collecting certifi>=2017.4.17 (from requests)\n",
      "  Downloading certifi-2025.4.26-py3-none-any.whl.metadata (2.5 kB)\n",
      "Downloading requests-2.32.3-py3-none-any.whl (64 kB)\n",
      "Downloading certifi-2025.4.26-py3-none-any.whl (159 kB)\n",
      "Downloading charset_normalizer-3.4.1-cp312-cp312-win_amd64.whl (102 kB)\n",
      "Downloading idna-3.10-py3-none-any.whl (70 kB)\n",
      "Downloading urllib3-2.4.0-py3-none-any.whl (128 kB)\n",
      "Installing collected packages: urllib3, idna, charset-normalizer, certifi, requests\n",
      "Successfully installed certifi-2025.4.26 charset-normalizer-3.4.1 idna-3.10 requests-2.32.3 urllib3-2.4.0\n",
      "Note: you may need to restart the kernel to use updated packages.\n"
     ]
    }
   ],
   "source": [
    "#pip install requests"
   ]
  },
  {
   "cell_type": "code",
   "execution_count": 1,
   "metadata": {},
   "outputs": [
    {
     "name": "stdout",
     "output_type": "stream",
     "text": [
      "Collecting selenium\n",
      "  Downloading selenium-4.31.0-py3-none-any.whl.metadata (7.5 kB)\n",
      "Requirement already satisfied: urllib3<3,>=1.26 in c:\\users\\lee\\desktop\\빅데이터 프로그래밍\\code\\venv\\lib\\site-packages (from urllib3[socks]<3,>=1.26->selenium) (2.4.0)\n",
      "Collecting trio~=0.17 (from selenium)\n",
      "  Downloading trio-0.30.0-py3-none-any.whl.metadata (8.5 kB)\n",
      "Collecting trio-websocket~=0.9 (from selenium)\n",
      "  Downloading trio_websocket-0.12.2-py3-none-any.whl.metadata (5.1 kB)\n",
      "Requirement already satisfied: certifi>=2021.10.8 in c:\\users\\lee\\desktop\\빅데이터 프로그래밍\\code\\venv\\lib\\site-packages (from selenium) (2025.4.26)\n",
      "Requirement already satisfied: typing_extensions~=4.9 in c:\\users\\lee\\desktop\\빅데이터 프로그래밍\\code\\venv\\lib\\site-packages (from selenium) (4.13.2)\n",
      "Collecting websocket-client~=1.8 (from selenium)\n",
      "  Downloading websocket_client-1.8.0-py3-none-any.whl.metadata (8.0 kB)\n",
      "Collecting attrs>=23.2.0 (from trio~=0.17->selenium)\n",
      "  Downloading attrs-25.3.0-py3-none-any.whl.metadata (10 kB)\n",
      "Collecting sortedcontainers (from trio~=0.17->selenium)\n",
      "  Downloading sortedcontainers-2.4.0-py2.py3-none-any.whl.metadata (10 kB)\n",
      "Requirement already satisfied: idna in c:\\users\\lee\\desktop\\빅데이터 프로그래밍\\code\\venv\\lib\\site-packages (from trio~=0.17->selenium) (3.10)\n",
      "Collecting outcome (from trio~=0.17->selenium)\n",
      "  Downloading outcome-1.3.0.post0-py2.py3-none-any.whl.metadata (2.6 kB)\n",
      "Collecting sniffio>=1.3.0 (from trio~=0.17->selenium)\n",
      "  Downloading sniffio-1.3.1-py3-none-any.whl.metadata (3.9 kB)\n",
      "Collecting cffi>=1.14 (from trio~=0.17->selenium)\n",
      "  Downloading cffi-1.17.1-cp312-cp312-win_amd64.whl.metadata (1.6 kB)\n",
      "Collecting wsproto>=0.14 (from trio-websocket~=0.9->selenium)\n",
      "  Downloading wsproto-1.2.0-py3-none-any.whl.metadata (5.6 kB)\n",
      "Collecting pysocks!=1.5.7,<2.0,>=1.5.6 (from urllib3[socks]<3,>=1.26->selenium)\n",
      "  Downloading PySocks-1.7.1-py3-none-any.whl.metadata (13 kB)\n",
      "Collecting pycparser (from cffi>=1.14->trio~=0.17->selenium)\n",
      "  Downloading pycparser-2.22-py3-none-any.whl.metadata (943 bytes)\n",
      "Collecting h11<1,>=0.9.0 (from wsproto>=0.14->trio-websocket~=0.9->selenium)\n",
      "  Downloading h11-0.16.0-py3-none-any.whl.metadata (8.3 kB)\n",
      "Downloading selenium-4.31.0-py3-none-any.whl (9.4 MB)\n",
      "   ---------------------------------------- 0.0/9.4 MB ? eta -:--:--\n",
      "   -------------------------------- ------- 7.6/9.4 MB 42.7 MB/s eta 0:00:01\n",
      "   ---------------------------------------- 9.4/9.4 MB 30.6 MB/s eta 0:00:00\n",
      "Downloading trio-0.30.0-py3-none-any.whl (499 kB)\n",
      "Downloading trio_websocket-0.12.2-py3-none-any.whl (21 kB)\n",
      "Downloading websocket_client-1.8.0-py3-none-any.whl (58 kB)\n",
      "Downloading attrs-25.3.0-py3-none-any.whl (63 kB)\n",
      "Downloading cffi-1.17.1-cp312-cp312-win_amd64.whl (181 kB)\n",
      "Downloading outcome-1.3.0.post0-py2.py3-none-any.whl (10 kB)\n",
      "Downloading PySocks-1.7.1-py3-none-any.whl (16 kB)\n",
      "Downloading sniffio-1.3.1-py3-none-any.whl (10 kB)\n",
      "Downloading wsproto-1.2.0-py3-none-any.whl (24 kB)\n",
      "Downloading sortedcontainers-2.4.0-py2.py3-none-any.whl (29 kB)\n",
      "Downloading h11-0.16.0-py3-none-any.whl (37 kB)\n",
      "Downloading pycparser-2.22-py3-none-any.whl (117 kB)\n",
      "Installing collected packages: sortedcontainers, websocket-client, sniffio, pysocks, pycparser, h11, attrs, wsproto, outcome, cffi, trio, trio-websocket, selenium\n",
      "Successfully installed attrs-25.3.0 cffi-1.17.1 h11-0.16.0 outcome-1.3.0.post0 pycparser-2.22 pysocks-1.7.1 selenium-4.31.0 sniffio-1.3.1 sortedcontainers-2.4.0 trio-0.30.0 trio-websocket-0.12.2 websocket-client-1.8.0 wsproto-1.2.0\n",
      "Note: you may need to restart the kernel to use updated packages.\n"
     ]
    }
   ],
   "source": [
    "#pip install selenium"
   ]
  },
  {
   "cell_type": "code",
   "execution_count": null,
   "metadata": {},
   "outputs": [
    {
     "name": "stdout",
     "output_type": "stream",
     "text": [
      "페이지 3 버튼을 클릭할 수 없습니다. 더 이상 버튼이 없습니다.\n",
      "다음 버튼을 찾을 수 없습니다. 더 이상 페이지가 없습니다.\n"
     ]
    }
   ],
   "source": [
    "from selenium import webdriver\n",
    "from selenium.webdriver.chrome.service import Service\n",
    "from selenium.webdriver.common.by import By\n",
    "from selenium.webdriver.common.keys import Keys\n",
    "from bs4 import BeautifulSoup\n",
    "import time\n",
    "\n",
    "driver_path = \"chromedriver-win64/chromedriver\" #크롬 드라이버 사용\n",
    "service = Service(excutable_path = driver_path)\n",
    "options = webdriver.ChromeOptions()\n",
    "driver = webdriver.Chrome(service=service, options=options)\n",
    "\n",
    "#review_url이라고 써있는 메모장에 있는 url을 하나씩 집어넣었습니다.\n",
    "url = \"https://m.brand.naver.com/stanley_korea/products/10118870118?nl-query=%ED%85%80%EB%B8%94%EB%9F%AC&nl-au=a97a8ea30d5f452f83bb1e17f30b0d65&NaPm=ci%3Da97a8ea30d5f452f83bb1e17f30b0d65%7Cct%3Dma7oljq7%7Ctr%3Dnslctg%7Csn%3D10106606%7Chk%3D445e72724e62a4eaedec4dfcc8000e8ce3f02f9d\"  # 크롤링할 URL로 변경\n",
    "driver.get(url)\n",
    "time.sleep(3)\n",
    "body = driver.find_element(By.TAG_NAME, \"body\")\n",
    "\n",
    "x = 20\n",
    "y = 7\n",
    "# Page Down 키를 x번 누름\n",
    "for _ in range(x):\n",
    "    body.send_keys(Keys.PAGE_DOWN)\n",
    "    time.sleep(0.2)  # 각 키 입력 후 대기 시간\n",
    "\n",
    "time.sleep(2)\n",
    "reviews = []\n",
    "rating = []\n",
    "pagenum = 8\n",
    "#킨토 빈플러스 코누는 지금 있는 코드로 그대로 사용하면 되고, 스탠리 락앤락 모슈는 range를 3에서 12로 바꾸고 while true 주석을 없앤 후 단락에 있는 부분의 주석을 풀어서 실행해야 됩니다.\n",
    "#킨토 빈플러스 코누는 리뷰 개수를 20으로 나눠서 range의 마지막에 넣은거라서 개수와 조금 다를 수도 있습니다.\n",
    "try:\n",
    "#    while True:  # 계속해서 페이지를 반복\n",
    "        for page in range(1, 126):  # a[3]부터 a[11]까지 순차적으로 클릭  \n",
    "            try:\n",
    "                \n",
    "                # 해당 페이지에서 리뷰들 가져오기\n",
    "                review_elements = driver.find_elements(By.CSS_SELECTOR, \"span._2L3vDiadT9\") #리뷰의 css 부분분\n",
    "                for element in review_elements:\n",
    "                    reviews.append(element.text)\n",
    "                \n",
    "                for i in range(1,21): #한 페이지에 리뷰가 20개 있으므로 20개의 별점을 가져옴 \n",
    "                    rating_elements = driver.find_element(By.XPATH, '//*[@id=\"REVIEW\"]/div/div[3]/div[2]/ul/li['+str(i)+']/div/div/div/div[1]/div/div[1]/div[1]/div[2]/div[1]/span/span')\n",
    "                    style_value = rating_elements.get_attribute(\"style\")\n",
    "                    width_value = int(style_value.split(\":\")[1].strip().replace('%', '').replace(';', '').strip())\n",
    "                    rating.append(width_value/20)\n",
    "\n",
    "                # 페이지 번호 클릭 (a[3]부터 a[11]까지)\n",
    "                #-----------------------------------\n",
    "                # page_button = driver.find_element(By.CSS_SELECTOR, \"#REVIEW > div > div._2LvIMaBiIO > div._2g7PKvqCKe > div > div > a:nth-child(\" + str(page) + \")\")\n",
    "                # page_button.click()\n",
    "                # time.sleep(2)  # 페이지 로딩 대기\n",
    "                # for _ in range(6):\n",
    "                #     body.send_keys(Keys.PAGE_DOWN)\n",
    "                #     time.sleep(0.2)\n",
    "                # time.sleep(2)\n",
    "                #-----------------------------------\n",
    "                next_button = driver.find_element(By.XPATH, '//*[@id=\"REVIEW\"]/div/div[3]/div[2]/div/div/a['+ str(pagenum)+']')\n",
    "                next_button.click()\n",
    "                for _ in range(y):\n",
    "                    body.send_keys(Keys.PAGE_DOWN)\n",
    "                    time.sleep(0.2)\n",
    "                time.sleep(2)  # '다음' 페이지로 이동 시간 기다리기\n",
    "                if(pagenum<12) :\n",
    "                    pagenum = pagenum+1;\n",
    "\n",
    "            except Exception as e:\n",
    "                print(f\"페이지 {page} 버튼을 클릭할 수 없습니다. 더 이상 버튼이 없습니다.\")\n",
    "                break  # 버튼이 없으면 종료\n",
    "\n",
    "        # '다음' 버튼 클릭 (a[12])\n",
    "        #-----------------------------------\n",
    "        # try:\n",
    "        #     next_button = driver.find_element(By.XPATH, '//*[@id=\"REVIEW\"]/div/div[3]/div[2]/div/div/a[12]')\n",
    "        #     next_button.click()\n",
    "        #     for _ in range(y):\n",
    "        #         body.send_keys(Keys.PAGE_DOWN)\n",
    "        #         time.sleep(0.2)\n",
    "        #     time.sleep(3)  # '다음' 페이지로 이동 시간 기다리기\n",
    "        # except Exception:\n",
    "        #     print(\"다음 버튼을 찾을 수 없습니다. 더 이상 페이지가 없습니다.\")\n",
    "        #     break  # '다음' 버튼이 없으면 종료\n",
    "        #-----------------------------------\n",
    "\n",
    "except Exception as e:\n",
    "    print(\"오류 발생:\", e)\n",
    "\n",
    "finally:\n",
    "    driver.quit()"
   ]
  },
  {
   "cell_type": "code",
   "execution_count": 4,
   "metadata": {},
   "outputs": [
    {
     "name": "stdout",
     "output_type": "stream",
     "text": [
      "['25.06.04.', '스텐리 텀블러 보냉력은 정말 좋아요\\n퀜처 하나 사용중인데 추가로 구매했습니다\\n차에 가지고 다니기에도 컵홀더에 딱 맞고\\n빨대도 튼튼합니다\\n색도 너무예쁘고 빨대 고정되는 실리콘까지.. 감동이예요', '25.06.02.', '커피 한번 사면 오래먹는 타입이라 얼음 빨리 안 녹는 텀블러가 필요했는데 기능이 너무 좋아요!! 사진은 커피 사고 4시간 지난 상태예요~ 색도 예쁘고 손잡이 없어도 밑에 둘레가 작아서 들고 다니기에 불편하지 않아요!! 강추합니다', '25.05.18.', '여자친구가 선물해 줬는데 너무 예뻐서 여자친구에게도 선물 했습니다 너무 예뻐요ㅎㅎ보냉? 스탠리인데 뭐 말할 필요가 있을까요ㅎㅎ 기능은 전세계적으로 인정을 받은곳이고 주문하시기전 색감들이 문제실텐데 최근들어 스탠리 3개 사본 결과 색은 고민하지 마세요 뭘 시키던 미친색감 옵니다ㅎㅎ 대만족~^^', '25.05.27.', '딸에게 선물했는데 실물이 훨씬 예뻐요.\\n사진으로는 색상이 진하게 보이는데 실제 보면 화이트에 블루 한방울의 아주 연한 색이라 너무 예뻐요. 딸이 아주 맘에 들어하네요.', '25.05.19.', '기존에 887사용중이었는데 회사에선 좀 작은걸 원해서 591구입했어요.색상만 더 다양했으면 591로만 샀을 거 같아요.손잡이가 없지만 잡고쓰는데 전혀 불편함은 없어요.손이 작으시면 한손에 잡긴 좀 불편하실듯.부츠커버는 품절이라 타사이트에서 구입했어요.쨍한핑크라 페일스톤 끼었는데 잘 어울려요.페일스톤이 완전 백색이 아니라 크리미해서 더 이쁜듯해요~\\n어차피 기능은 좋은거 알기에 만족해요🩷', '25.05.27.', '친구한테 선물했는데 넘 좋아해서 다른 색으로 또 선물 보냈어요. 가격도 괜찮고 만족도가 높아서 선물용으로도 좋은듯합니다!!', '25.05.28.', '여름에 없으면 안되는 필수템입니다\\n\\n피크닉이나 여행 시 차에 두고 먹기도 좋아요\\n아이스크림, 아이스 커피 등 잘 사용하고 있어요\\n다음날까지도 얼음 그대로 있어서 매우 만족합니다\\n\\n다른 색상으로 잘 쓰다가 어머니 생신선물로 사드렸어요 나이 먹을 수록 물 잘 안드시고 무더위도 위험해서 사드렸어요 더 큰 사이즈 부담스러워 하시더라고요', '25.05.19.', '이미 텀블러 있는데 빨대있는걸로 살려고 보다가 할인까지 해서 바로 샀습니다 ㅋㅋㅋ 보냉온 전부 잘 되고 일단 컬러를 정말 잘뽑아요 스탠리가…. 새로나온 컬러로 샀는데 완전 만족 ㅠ \\n\\n그리고 배송이 진짜 댕빠름요 어제 저녁 8시에 시켰는데 오늘 오후1시에 도착했습니다… 쿠팡보다 더 빨라요 ㅠ 텀블러 고민하시는분들 걍 사세요 후회안합니다', '25.05.28.', '무게감 있고 색깔 예뻐요\\n손잡이 형태로도 하나 더 주문해야겠어요\\n맘에듭니다 ^^', '25.05.20.', '키180남자 손도 큰편입니다. 농구공 겨우 한손으로 잡을 정도.\\n2층 구조자나요? 텀블러가. 윗층을 잡기엔 조금 불편합니다. 아래쪽은 괜찮음. 그립감이. 어찌보면 손잡이 있는게 나았을 수도 있었을듯? 근데 또 손잡이 있는건 데일리로 불편해서.ㅎㅎㅎ색감은 아주 이쁘고 좋습니다~', '25.06.02.', '딸아이사줬는데 너무좋아해요\\n애간장 태우지 않고 진작사줄걸 그랬어요\\n보냉이 오래가서 학교서 오래오래 마실 수 있다고 엄청 흡족해 합니다^^', '25.05.24.', '스탠리 텀블러를 사용한 지 3개월째인데, 정말 만족스럽습니다. 먼저, 보온성과 보냉성이 뛰어나서 여름에는 시원한 음료를, 겨울에는 따뜻한 차를 오랫동안 즐길 수 있었습니다. 특히, 얼음을 넣어두면 하루 종일 녹지 않는 점이 매우 인상적이었어요.\\n\\n또한, 튼튼한 내구성이 정말 마음에 듭니다. 몇 번 떨어뜨린 적이 있었는데도 스크래치나 찌그러짐이 거의 없었습니다. 캠핑이나 등산 같은 야외 활동을 자주 하는 분들께 특히 추천드리고 싶습니다.', '25.06.05.', '사이즈 커보이지않고좋아요\\n학생가방에 넣기에는 빨대컵이라...좀...\\n아들이갖고싶어 샀는데 들고다니라해야겠어요...', '25.06.01.', '스텐리 전부터 쓰고 있는데 너무 잘 쓰고 있어요. 다만...예전에는 이 색이 없었는데ㅠㅠ 제가 너무 좋아하는 연한 하늘색이라 또 질렀어요ㅋㅋ', '25.05.26.', '3번째 구매합니다 . 집에 있는 제품들이 검정색 , 회색이라 여름엔 좀 더워(?)보여서 밝은 색으로 주문   역시 스탠리는 최고네요 .. 여름에 특히. 얼음을 잔뜩 넣어도 겉에 물기하나 안 생기는 신기한 제품 !! 강강추 입니다 .', '25.06.03.', '색상이 맘에 들어요. 실물로 보니 더 예뻐요 보냉도 잘 됩니다', '25.06.04.', '안전하고 빠르게 배송되었어요.\\n색상이 은은한게 넘 이뻐요.', '25.05.10.', '색깔이 생각보나 너무 예뻐요ㅠㅠ 단 뚜껑으로 완전히 밀봉되지 않은 제품이라는 점은 꼭 유의하고 구매하세요! 가방 안에서 넘어지면 음료가 샐 수 있습니다. 저는 사무실에서 들고다니는 용이라 크게 상관은 없지만 뚜껑이 완전히 닫히기를 원하시면 다른 제품을 고려해보셔도 좋을 것 같습니다..! 얼음은 8시간 이상 유지 되네요~', '25.04.16.', '이번에 네이버 스토어로 바꾸면서 스탠리 텀블러 이때다! 싶게 많이 주문하게 되네요. \\n\\n남동생이 조금 작은 사이즈의 텀블러도 하나 더 필요하다고 해서 지난번 887ml 사이즈에 이어 591ml 사이즈 텀블러 구입하려고 다시 들르게 되었습니다. \\n\\n네이버 내일배송답게 주문한 바로 다음날 물건 바로 수령했다고 남동생한테 감사인사 받았네요. 확실히 지난번 큰 사이즈의 제품보다는 휴대성이 더 좋다고 오히려 이 사이즈를 오다가다 더 사용할 수도 있을거 같다고 색도 아주 맘에 든다고 만족의 문자를 받았습니다. \\n\\n저 또한 지난번 주문한 887ml 사이즈 사무실에서 아주 매일같이 잘 사용하고 있네요. 다음날까지 얼음이 녹지 않은 것을 보고 역시 스탠리 텀블러의 기능은 짱!임을 다시 한 번 깨닫게 되었네요. \\n\\n네이버 통해서 좋은 제품 다른 곳보다도 저렴하게 그리고 빠르게 구입할 수 있어서 참으로 감사드립니다!!', '25.06.02.', '직장에서 사용하려고 500ml사이즈 주문했어요!큰 사이즈로 너무 만족스럽게 잘 사용하고 있어서 이번에는 다른 색으로 주문했는어요']\n"
     ]
    }
   ],
   "source": [
    "#print(reviews)"
   ]
  },
  {
   "cell_type": "code",
   "execution_count": 9,
   "metadata": {},
   "outputs": [],
   "source": [
    "import pandas as pd\n",
    "\n",
    "#reviews의의 날짜와 리뷰를 분리\n",
    "data = {\n",
    "    \"date\" : reviews[0::2],\n",
    "    \"review\" : reviews[1::2],\n",
    "    \"rating\" : rating\n",
    "}\n",
    "\n",
    "df = pd.DataFrame(data)\n",
    "df.to_csv('konu_reviews.csv',encoding=\"utf-8-sig\")\n",
    "#url딴 브랜드 명으로 바꾼 후 csv파일로 내보내기보내기"
   ]
  }
 ],
 "metadata": {
  "kernelspec": {
   "display_name": "venv",
   "language": "python",
   "name": "python3"
  },
  "language_info": {
   "codemirror_mode": {
    "name": "ipython",
    "version": 3
   },
   "file_extension": ".py",
   "mimetype": "text/x-python",
   "name": "python",
   "nbconvert_exporter": "python",
   "pygments_lexer": "ipython3",
   "version": "3.12.10"
  }
 },
 "nbformat": 4,
 "nbformat_minor": 2
}
