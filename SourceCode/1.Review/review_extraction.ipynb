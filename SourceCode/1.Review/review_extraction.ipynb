{
 "cells": [
  {
   "cell_type": "code",
   "execution_count": null,
   "metadata": {},
   "outputs": [],
   "source": [
    "#pip install requests"
   ]
  },
  {
   "cell_type": "code",
   "execution_count": null,
   "metadata": {},
   "outputs": [],
   "source": [
    "#pip install selenium"
   ]
  },
  {
   "cell_type": "code",
   "execution_count": null,
   "metadata": {},
   "outputs": [],
   "source": [
    "from selenium import webdriver\n",
    "from selenium.webdriver.chrome.service import Service\n",
    "from selenium.webdriver.common.by import By\n",
    "from selenium.webdriver.common.keys import Keys\n",
    "from bs4 import BeautifulSoup\n",
    "import time\n",
    "\n",
    "driver_path = \"chromedriver-win64/chromedriver\" #크롬 드라이버 사용\n",
    "service = Service(excutable_path = driver_path)\n",
    "options = webdriver.ChromeOptions()\n",
    "driver = webdriver.Chrome(service=service, options=options)\n",
    "\n",
    "#review_url이라고 써있는 메모장에 있는 url을 하나씩 집어넣었습니다.\n",
    "url = \"https://m.brand.naver.com/stanley_korea/products/10118870118?nl-query=%ED%85%80%EB%B8%94%EB%9F%AC&nl-au=a97a8ea30d5f452f83bb1e17f30b0d65&NaPm=ci%3Da97a8ea30d5f452f83bb1e17f30b0d65%7Cct%3Dma7oljq7%7Ctr%3Dnslctg%7Csn%3D10106606%7Chk%3D445e72724e62a4eaedec4dfcc8000e8ce3f02f9d\"  # 크롤링할 URL로 변경\n",
    "driver.get(url)\n",
    "time.sleep(3)\n",
    "body = driver.find_element(By.TAG_NAME, \"body\")\n",
    "\n",
    "x = 20\n",
    "y = 7\n",
    "# Page Down 키를 x번 누름\n",
    "for _ in range(x):\n",
    "    body.send_keys(Keys.PAGE_DOWN)\n",
    "    time.sleep(0.2)  # 각 키 입력 후 대기 시간\n",
    "\n",
    "time.sleep(2)\n",
    "reviews = []\n",
    "rating = []\n",
    "pagenum = 8\n",
    "#킨토 빈플러스 코누는 지금 있는 코드로 그대로 사용하면 되고, 스탠리 락앤락 모슈는 range를 3에서 12로 바꾸고 while true 주석을 없앤 후 단락에 있는 부분의 주석을 풀어서 실행해야 됩니다.\n",
    "#킨토 빈플러스 코누는 리뷰 개수를 20으로 나눠서 range의 마지막에 넣은거라서 개수와 조금 다를 수도 있습니다.\n",
    "try:\n",
    "#    while True:  # 계속해서 페이지를 반복\n",
    "        for page in range(1, 126):  # a[3]부터 a[11]까지 순차적으로 클릭  \n",
    "            try:\n",
    "                \n",
    "                # 해당 페이지에서 리뷰들 가져오기\n",
    "                review_elements = driver.find_elements(By.CSS_SELECTOR, \"span._2L3vDiadT9\") #리뷰의 css 부분분\n",
    "                for element in review_elements:\n",
    "                    reviews.append(element.text)\n",
    "                \n",
    "                for i in range(1,21): #한 페이지에 리뷰가 20개 있으므로 20개의 별점을 가져옴 \n",
    "                    rating_elements = driver.find_element(By.XPATH, '//*[@id=\"REVIEW\"]/div/div[3]/div[2]/ul/li['+str(i)+']/div/div/div/div[1]/div/div[1]/div[1]/div[2]/div[1]/span/span')\n",
    "                    style_value = rating_elements.get_attribute(\"style\")\n",
    "                    width_value = int(style_value.split(\":\")[1].strip().replace('%', '').replace(';', '').strip())\n",
    "                    rating.append(width_value/20)\n",
    "\n",
    "                # 페이지 번호 클릭 (a[3]부터 a[11]까지)\n",
    "                #-----------------------------------\n",
    "                # page_button = driver.find_element(By.CSS_SELECTOR, \"#REVIEW > div > div._2LvIMaBiIO > div._2g7PKvqCKe > div > div > a:nth-child(\" + str(page) + \")\")\n",
    "                # page_button.click()\n",
    "                # time.sleep(2)  # 페이지 로딩 대기\n",
    "                # for _ in range(6):\n",
    "                #     body.send_keys(Keys.PAGE_DOWN)\n",
    "                #     time.sleep(0.2)\n",
    "                # time.sleep(2)\n",
    "                #-----------------------------------\n",
    "                next_button = driver.find_element(By.XPATH, '//*[@id=\"REVIEW\"]/div/div[3]/div[2]/div/div/a['+ str(pagenum)+']')\n",
    "                next_button.click()\n",
    "                for _ in range(y):\n",
    "                    body.send_keys(Keys.PAGE_DOWN)\n",
    "                    time.sleep(0.2)\n",
    "                time.sleep(2)  # '다음' 페이지로 이동 시간 기다리기\n",
    "                if(pagenum<12) :\n",
    "                    pagenum = pagenum+1;\n",
    "\n",
    "            except Exception as e:\n",
    "                print(f\"페이지 {page} 버튼을 클릭할 수 없습니다. 더 이상 버튼이 없습니다.\")\n",
    "                break  # 버튼이 없으면 종료\n",
    "\n",
    "        # '다음' 버튼 클릭 (a[12])\n",
    "        #-----------------------------------\n",
    "        # try:\n",
    "        #     next_button = driver.find_element(By.XPATH, '//*[@id=\"REVIEW\"]/div/div[3]/div[2]/div/div/a[12]')\n",
    "        #     next_button.click()\n",
    "        #     for _ in range(y):\n",
    "        #         body.send_keys(Keys.PAGE_DOWN)\n",
    "        #         time.sleep(0.2)\n",
    "        #     time.sleep(3)  # '다음' 페이지로 이동 시간 기다리기\n",
    "        # except Exception:\n",
    "        #     print(\"다음 버튼을 찾을 수 없습니다. 더 이상 페이지가 없습니다.\")\n",
    "        #     break  # '다음' 버튼이 없으면 종료\n",
    "        #-----------------------------------\n",
    "\n",
    "except Exception as e:\n",
    "    print(\"오류 발생:\", e)\n",
    "\n",
    "finally:\n",
    "    driver.quit()"
   ]
  },
  {
   "cell_type": "code",
   "execution_count": null,
   "metadata": {},
   "outputs": [],
   "source": [
    "#print(reviews)"
   ]
  },
  {
   "cell_type": "code",
   "execution_count": 9,
   "metadata": {},
   "outputs": [],
   "source": [
    "import pandas as pd\n",
    "\n",
    "#reviews의의 날짜와 리뷰를 분리\n",
    "data = {\n",
    "    \"date\" : reviews[0::2],\n",
    "    \"review\" : reviews[1::2],\n",
    "    \"rating\" : rating\n",
    "}\n",
    "\n",
    "df = pd.DataFrame(data)\n",
    "df.to_csv('konu_reviews.csv',encoding=\"utf-8-sig\")\n",
    "#url딴 브랜드 명으로 바꾼 후 csv파일로 내보내기보내기"
   ]
  }
 ],
 "metadata": {
  "kernelspec": {
   "display_name": "venv",
   "language": "python",
   "name": "python3"
  },
  "language_info": {
   "codemirror_mode": {
    "name": "ipython",
    "version": 3
   },
   "file_extension": ".py",
   "mimetype": "text/x-python",
   "name": "python",
   "nbconvert_exporter": "python",
   "pygments_lexer": "ipython3",
   "version": "3.12.10"
  }
 },
 "nbformat": 4,
 "nbformat_minor": 2
}
